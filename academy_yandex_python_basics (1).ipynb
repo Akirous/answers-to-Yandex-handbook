{
  "nbformat": 4,
  "nbformat_minor": 0,
  "metadata": {
    "colab": {
      "provenance": []
    },
    "kernelspec": {
      "name": "python3",
      "display_name": "Python 3"
    },
    "language_info": {
      "name": "python"
    }
  },
  "cells": [
    {
      "cell_type": "markdown",
      "source": [
        "#Основы Python"
      ],
      "metadata": {
        "id": "ib3NG4b_E7nq"
      }
    },
    {
      "cell_type": "markdown",
      "source": [
        "В этом проекте собираются мои решения задач из хэндбука Яндекс по основам Python."
      ],
      "metadata": {
        "id": "UItzFw7IAIH-"
      }
    },
    {
      "cell_type": "markdown",
      "source": [
        "##2.1. Ввод и вывод данных. Операции с числами, строками. Форматирование"
      ],
      "metadata": {
        "id": "-RqsKcpHADZO"
      }
    },
    {
      "cell_type": "markdown",
      "source": [
        "A.Привет, Яндекс!"
      ],
      "metadata": {
        "id": "1P62Y2t9Aj5E"
      }
    },
    {
      "cell_type": "code",
      "source": [
        "print(\"Привет, Яндекс!\")"
      ],
      "metadata": {
        "colab": {
          "base_uri": "https://localhost:8080/"
        },
        "id": "ORKqCtWhAlgp",
        "outputId": "b6b6b052-aa39-476b-cb84-ba9ebbbd5aac"
      },
      "execution_count": 2,
      "outputs": [
        {
          "output_type": "stream",
          "name": "stdout",
          "text": [
            "Привет, Яндекс!\n"
          ]
        }
      ]
    },
    {
      "cell_type": "markdown",
      "source": [
        "B.Привет, всем!"
      ],
      "metadata": {
        "id": "_18Gi9NlA0Yf"
      }
    },
    {
      "cell_type": "code",
      "source": [
        "name = input(\"Как Вас зовут?\")\n",
        "print(\"Привет,\", name)"
      ],
      "metadata": {
        "colab": {
          "base_uri": "https://localhost:8080/"
        },
        "id": "-xFBJRKAB-5H",
        "outputId": "48d1450c-34c3-4bb0-d699-d9d4b87cfa25"
      },
      "execution_count": 3,
      "outputs": [
        {
          "output_type": "stream",
          "name": "stdout",
          "text": [
            "Как Вас зовут?vfv\n",
            "Привет, vfv\n"
          ]
        }
      ]
    },
    {
      "cell_type": "markdown",
      "source": [
        "C.Излишняя автоматизация"
      ],
      "metadata": {
        "id": "yCgOU6BxA1z6"
      }
    },
    {
      "cell_type": "code",
      "source": [
        "\n",
        "name = input()\n",
        "print(name)\n",
        "print(name)\n",
        "print(name)"
      ],
      "metadata": {
        "id": "oKYSemiwCFG2"
      },
      "execution_count": null,
      "outputs": []
    },
    {
      "cell_type": "markdown",
      "source": [
        "D.Сдача"
      ],
      "metadata": {
        "id": "-CFKZolkA5Xu"
      }
    },
    {
      "cell_type": "code",
      "source": [
        "check = int(input())\n",
        "check >= 100\n",
        "price = (check - int(2.5 * 38))\n",
        "print(int(price))"
      ],
      "metadata": {
        "id": "c9qRwJLCCNBh"
      },
      "execution_count": null,
      "outputs": []
    },
    {
      "cell_type": "markdown",
      "source": [
        "E.Магазин"
      ],
      "metadata": {
        "id": "pehtNcJBBGvX"
      }
    },
    {
      "cell_type": "code",
      "source": [
        "price = int(input())\n",
        "weight = int(input())\n",
        "maney = int(input())\n",
        "check = int(maney - (price * weight))\n",
        "print(check)"
      ],
      "metadata": {
        "id": "ODKajB9yCSEo"
      },
      "execution_count": null,
      "outputs": []
    },
    {
      "cell_type": "markdown",
      "source": [
        "F.Чек"
      ],
      "metadata": {
        "id": "FB-rwvsdBJmp"
      }
    },
    {
      "cell_type": "code",
      "source": [
        "name = str(input())\n",
        "price = int(input())\n",
        "weight = int(input())\n",
        "maney = int(input())\n",
        "sum = weight * price\n",
        "total = maney - sum  \n",
        "print(\"Чек\")\n",
        "print(f\"{name} - {weight}кг - {price}руб/кг\")\n",
        "print(f\"Итого: {sum}руб\")\n",
        "print(f\"Внесено: {maney}руб\")\n",
        "print(f\"Сдача: {total}руб\")"
      ],
      "metadata": {
        "id": "yGKLuTgxCYjP"
      },
      "execution_count": null,
      "outputs": []
    },
    {
      "cell_type": "markdown",
      "source": [
        "G.Делу — время, потехе — час"
      ],
      "metadata": {
        "id": "WrQ9udUGBOw9"
      }
    },
    {
      "cell_type": "code",
      "source": [
        "number = int(input())\n",
        "for i in range(number):\n",
        "    print('Купи слона!')"
      ],
      "metadata": {
        "id": "FpJG3-P3Cclh"
      },
      "execution_count": null,
      "outputs": []
    },
    {
      "cell_type": "markdown",
      "source": [
        "H.Наказание"
      ],
      "metadata": {
        "id": "LPgtKZ_zBSGO"
      }
    },
    {
      "cell_type": "code",
      "source": [
        "n = int(input())\n",
        "m = input()\n",
        "for i in range(n):\n",
        "    print(f'Я больше никогда не буду писать \"{m}\"!')"
      ],
      "metadata": {
        "id": "1_GITjFVCe39"
      },
      "execution_count": null,
      "outputs": []
    },
    {
      "cell_type": "markdown",
      "source": [
        "I.Деловая колбаса"
      ],
      "metadata": {
        "id": "gTqIEQKWBXDQ"
      }
    },
    {
      "cell_type": "code",
      "source": [
        "N = int(input())\n",
        "M = int(input())\n",
        "print(int((N * M) / 2))"
      ],
      "metadata": {
        "id": "pYAUkKIBCjQ1"
      },
      "execution_count": null,
      "outputs": []
    },
    {
      "cell_type": "markdown",
      "source": [
        "J.Детский сад — штаны на лямках"
      ],
      "metadata": {
        "id": "Bmr7eByhBagW"
      }
    },
    {
      "cell_type": "code",
      "source": [
        "\n",
        "name = str(input())\n",
        "number = int(input())\n",
        "gr = number // 100 % 10\n",
        "spis = number % 10\n",
        "sleep = number // 10 % 10\n",
        "print(f'Группа №{gr}.')\n",
        "print(f'{spis}. {name}.')\n",
        "print(f'Шкафчик: {number}.')\n",
        "print(f'Кроватка: {sleep}.')"
      ],
      "metadata": {
        "id": "hHSPTxuACmvM"
      },
      "execution_count": null,
      "outputs": []
    },
    {
      "cell_type": "markdown",
      "source": [
        "K.Автоматизация игры"
      ],
      "metadata": {
        "id": "FHaEuavbBerS"
      }
    },
    {
      "cell_type": "code",
      "source": [
        "\n",
        "n = int(input())\n",
        "a = n // 1000 % 10\n",
        "b = n // 100 % 10\n",
        "c = n // 10 % 10\n",
        "d = n % 10\n",
        "print(f'{b}{a}{d}{c}')"
      ],
      "metadata": {
        "id": "0Jk7BhklCrIA"
      },
      "execution_count": null,
      "outputs": []
    },
    {
      "cell_type": "markdown",
      "source": [
        "L.Интересное сложение"
      ],
      "metadata": {
        "id": "OVVnMyMJBht4"
      }
    },
    {
      "cell_type": "code",
      "source": [
        "\n",
        "n = int(input())\n",
        "m = int(input())\n",
        "a = n % 10\n",
        "b = m % 10\n",
        "c = n // 10 % 10\n",
        "d = m // 10 % 10\n",
        "e = n // 100 % 10\n",
        "f = m // 100 % 10\n",
        "g = (a + b) % 10\n",
        "h = (c + d) % 10\n",
        "i = (e + f) % 10\n",
        "print(f'{i}{h}{g}')"
      ],
      "metadata": {
        "id": "-6X19JeICweT"
      },
      "execution_count": null,
      "outputs": []
    },
    {
      "cell_type": "markdown",
      "source": [
        "M.Дед Мороз и конфеты"
      ],
      "metadata": {
        "id": "HcqMa3_nBpfq"
      }
    },
    {
      "cell_type": "code",
      "source": [
        "kids = int(input())\n",
        "candy = int(input())\n",
        "print(candy // kids)\n",
        "print(candy % kids)"
      ],
      "metadata": {
        "id": "NcQxkMT0C0ub"
      },
      "execution_count": null,
      "outputs": []
    },
    {
      "cell_type": "markdown",
      "source": [
        "N.Шарики и ручки"
      ],
      "metadata": {
        "id": "mEF-yUxXBruc"
      }
    },
    {
      "cell_type": "code",
      "source": [
        "\n",
        "red = int(input())\n",
        "green = int(input())\n",
        "blue = int(input())\n",
        "print(red + blue + 1)"
      ],
      "metadata": {
        "id": "Ok91ydEPDAMp"
      },
      "execution_count": null,
      "outputs": []
    },
    {
      "cell_type": "markdown",
      "source": [
        "O.В ожидании доставки"
      ],
      "metadata": {
        "id": "XagHB7dWBs0R"
      }
    },
    {
      "cell_type": "code",
      "source": [
        "\n",
        "n = int(input()) * 60\n",
        "m = int(input())\n",
        "t = int(input())\n",
        "hh = (n + m + t) // 60 % 24\n",
        "mm = (n + m + t) % 60\n",
        "print(f'{hh:02}:{mm:02}')"
      ],
      "metadata": {
        "id": "mTL176EoDEpj"
      },
      "execution_count": null,
      "outputs": []
    },
    {
      "cell_type": "markdown",
      "source": [
        "P.Доставка"
      ],
      "metadata": {
        "id": "ux1z1F7KBviE"
      }
    },
    {
      "cell_type": "code",
      "source": [
        "\n",
        "a = int(input())\n",
        "b = int(input())\n",
        "c = int(input())\n",
        "print(round((float(b - a) / c), 2))"
      ],
      "metadata": {
        "id": "nK-6k8tsDKRD"
      },
      "execution_count": null,
      "outputs": []
    },
    {
      "cell_type": "markdown",
      "source": [
        "Q.Ошибка кассового аппарата"
      ],
      "metadata": {
        "id": "mHEFM20XBxyE"
      }
    },
    {
      "cell_type": "code",
      "source": [
        "\n",
        "n = int(input())  \n",
        "dv = input()\n",
        "dec = 0\n",
        "k = str(dv)[::-1]\n",
        "for i in range(len(k)):\n",
        "    if k[i] != '0':\n",
        "        dec += 2 ** i\n",
        "rez = n + dec\n",
        "print(rez)"
      ],
      "metadata": {
        "id": "-cXit26_DN_8"
      },
      "execution_count": null,
      "outputs": []
    },
    {
      "cell_type": "markdown",
      "source": [
        "R.Сдача 10"
      ],
      "metadata": {
        "id": "wUbO5TyVB0-G"
      }
    },
    {
      "cell_type": "code",
      "source": [
        "\n",
        "n = int(input())\n",
        "m = int(input())\n",
        "change = 0\n",
        "ch = str(n)[::-1]\n",
        "for i in range(len(ch)):\n",
        "    if ch[i] != '0':\n",
        "        change += 2**i\n",
        "print(m - int(change))"
      ],
      "metadata": {
        "id": "9NjbJbMlDS4D"
      },
      "execution_count": null,
      "outputs": []
    },
    {
      "cell_type": "markdown",
      "source": [
        "S.Украшение чека"
      ],
      "metadata": {
        "id": "zGUiQFykB4Ac"
      }
    },
    {
      "cell_type": "code",
      "source": [
        "\n",
        "name = str(input())\n",
        "price = int(input())\n",
        "weight = int(input())\n",
        "money = int(input())\n",
        "k = '='\n",
        "m = ' '\n",
        "print(f'{k * 16}Чек{k * 16}')\n",
        "print(f'Товар: {m * (35 - 7 - len(name))}{name}')\n",
        "print(f'Цена: {m * (35 - 17 - len(str(weight)) - len(str(price)))}{weight}кг * {price}руб/кг')\n",
        "print(f'Итого: {m * (35 - 10 - len(str(weight * price)))}{weight * price}руб')\n",
        "print(f'Внесено: {m * (35 - 12 - len(str(money)))}{money}руб')\n",
        "print(f'Сдача: {m * (35 - 10 - len(str(money - weight * price)))}{money - weight * price}руб')\n",
        "print(f'{k * 35}')"
      ],
      "metadata": {
        "id": "UMAi4LRBDX2C"
      },
      "execution_count": null,
      "outputs": []
    },
    {
      "cell_type": "markdown",
      "source": [
        "T.Мухи отдельно, котлеты отдельно"
      ],
      "metadata": {
        "id": "tfyzRaDcB6Cz"
      }
    },
    {
      "cell_type": "code",
      "source": [
        "\n",
        "n = int(input())\n",
        "m = int(input())\n",
        "k1 = int(input())\n",
        "k2 = int(input())\n",
        "x = 1\n",
        "y = 1\n",
        "y = int(((m - k1) * n) / (k2 - k1))\n",
        "x = int(n - y)\n",
        "print(f'{x} {y}')"
      ],
      "metadata": {
        "id": "JcU5hu4iDbyI"
      },
      "execution_count": null,
      "outputs": []
    }
  ]
}